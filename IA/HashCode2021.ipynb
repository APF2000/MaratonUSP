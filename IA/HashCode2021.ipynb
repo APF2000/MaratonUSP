{
 "cells": [
  {
   "cell_type": "code",
   "execution_count": 1,
   "metadata": {},
   "outputs": [],
   "source": [
    "import numpy as np\n",
    "import pandas as pd\n",
    "import matplotlib.pyplot as plt\n",
    "\n",
    "\n",
    "import sys\n",
    "import os\n",
    "from funcs import *\n",
    "from simulator import *\n",
    "import seaborn as sns"
   ]
  },
  {
   "cell_type": "code",
   "execution_count": 2,
   "metadata": {
    "tags": []
   },
   "outputs": [],
   "source": [
    "def score_geral(namefile, max_time=3, old_schedule=None):\n",
    "    entrada = open(f'in/{namefile}.txt', 'r')\n",
    "    saida = open(f'out/{namefile}.out', 'w')\n",
    "\n",
    "    D,I,S,V,F, sts, cars, inters = pega_input(entrada.readline)\n",
    "    schedule = sol_batata(D,I,S,V,F, sts, cars, inters, max_time=max_time, old_schedule=old_schedule)\n",
    "    \n",
    "    new_old_schedule = schedule.copy()\n",
    "    output = form_out(schedule)[:-1]\n",
    "    bkp_cars = cars.copy()\n",
    "    \n",
    "    total, finished_cars = score(D, F, sts, cars, inters, schedule)\n",
    "    #print(f'score: {total:,}')\n",
    "    return cars, bkp_cars, finished_cars, total, sts, inters, schedule, total, new_old_schedule\n",
    "cars, bkp_cars, finished_cars, total, sts, inters, schedule, total, _ = score_geral(\"e\")"
   ]
  },
  {
   "cell_type": "code",
   "execution_count": 3,
   "metadata": {
    "tags": []
   },
   "outputs": [
    {
     "data": {
      "text/html": [
       "<div>\n",
       "<style scoped>\n",
       "    .dataframe tbody tr th:only-of-type {\n",
       "        vertical-align: middle;\n",
       "    }\n",
       "\n",
       "    .dataframe tbody tr th {\n",
       "        vertical-align: top;\n",
       "    }\n",
       "\n",
       "    .dataframe thead th {\n",
       "        text-align: right;\n",
       "    }\n",
       "</style>\n",
       "<table border=\"1\" class=\"dataframe\">\n",
       "  <thead>\n",
       "    <tr style=\"text-align: right;\">\n",
       "      <th></th>\n",
       "      <th>Carro</th>\n",
       "      <th>Ruas</th>\n",
       "      <th>Tamanho total</th>\n",
       "      <th>Ruas em comum</th>\n",
       "      <th>Ruas com intersec</th>\n",
       "      <th>Score</th>\n",
       "    </tr>\n",
       "  </thead>\n",
       "  <tbody>\n",
       "    <tr>\n",
       "      <th>count</th>\n",
       "      <td>1000.000000</td>\n",
       "      <td>1000.000000</td>\n",
       "      <td>1000.000000</td>\n",
       "      <td>1000.00000</td>\n",
       "      <td>1000.000000</td>\n",
       "      <td>1000.000000</td>\n",
       "    </tr>\n",
       "    <tr>\n",
       "      <th>mean</th>\n",
       "      <td>499.500000</td>\n",
       "      <td>1.839000</td>\n",
       "      <td>41.596000</td>\n",
       "      <td>6.12700</td>\n",
       "      <td>1.839000</td>\n",
       "      <td>628.676000</td>\n",
       "    </tr>\n",
       "    <tr>\n",
       "      <th>std</th>\n",
       "      <td>288.819436</td>\n",
       "      <td>1.834788</td>\n",
       "      <td>94.773471</td>\n",
       "      <td>6.31829</td>\n",
       "      <td>1.834788</td>\n",
       "      <td>419.934314</td>\n",
       "    </tr>\n",
       "    <tr>\n",
       "      <th>min</th>\n",
       "      <td>0.000000</td>\n",
       "      <td>1.000000</td>\n",
       "      <td>0.000000</td>\n",
       "      <td>1.00000</td>\n",
       "      <td>1.000000</td>\n",
       "      <td>0.000000</td>\n",
       "    </tr>\n",
       "    <tr>\n",
       "      <th>25%</th>\n",
       "      <td>249.750000</td>\n",
       "      <td>1.000000</td>\n",
       "      <td>0.000000</td>\n",
       "      <td>3.00000</td>\n",
       "      <td>1.000000</td>\n",
       "      <td>0.000000</td>\n",
       "    </tr>\n",
       "    <tr>\n",
       "      <th>50%</th>\n",
       "      <td>499.500000</td>\n",
       "      <td>1.000000</td>\n",
       "      <td>0.000000</td>\n",
       "      <td>4.00000</td>\n",
       "      <td>1.000000</td>\n",
       "      <td>757.000000</td>\n",
       "    </tr>\n",
       "    <tr>\n",
       "      <th>75%</th>\n",
       "      <td>749.250000</td>\n",
       "      <td>1.000000</td>\n",
       "      <td>0.000000</td>\n",
       "      <td>6.00000</td>\n",
       "      <td>1.000000</td>\n",
       "      <td>977.250000</td>\n",
       "    </tr>\n",
       "    <tr>\n",
       "      <th>max</th>\n",
       "      <td>999.000000</td>\n",
       "      <td>10.000000</td>\n",
       "      <td>507.000000</td>\n",
       "      <td>44.00000</td>\n",
       "      <td>10.000000</td>\n",
       "      <td>1173.000000</td>\n",
       "    </tr>\n",
       "  </tbody>\n",
       "</table>\n",
       "</div>"
      ],
      "text/plain": [
       "             Carro         Ruas  Tamanho total  Ruas em comum  \\\n",
       "count  1000.000000  1000.000000    1000.000000     1000.00000   \n",
       "mean    499.500000     1.839000      41.596000        6.12700   \n",
       "std     288.819436     1.834788      94.773471        6.31829   \n",
       "min       0.000000     1.000000       0.000000        1.00000   \n",
       "25%     249.750000     1.000000       0.000000        3.00000   \n",
       "50%     499.500000     1.000000       0.000000        4.00000   \n",
       "75%     749.250000     1.000000       0.000000        6.00000   \n",
       "max     999.000000    10.000000     507.000000       44.00000   \n",
       "\n",
       "       Ruas com intersec        Score  \n",
       "count        1000.000000  1000.000000  \n",
       "mean            1.839000   628.676000  \n",
       "std             1.834788   419.934314  \n",
       "min             1.000000     0.000000  \n",
       "25%             1.000000     0.000000  \n",
       "50%             1.000000   757.000000  \n",
       "75%             1.000000   977.250000  \n",
       "max            10.000000  1173.000000  "
      ]
     },
     "metadata": {},
     "output_type": "display_data"
    }
   ],
   "source": [
    "# Cada linha é um carro, cada coluna é uma estatística do carro\n",
    "def data_car(cars, sts, bkp_cars):\n",
    "    data = []\n",
    "    cars.update(finished_cars)\n",
    "    for car in cars:\n",
    "        #print(cars[car])\n",
    "        path = bkp_cars[car]#['path']\n",
    "        qtde_ruas = len(path)# - 1\n",
    "        \n",
    "        total_tam_ruas = 0\n",
    "        for st in path[1:]:\n",
    "            dims = sts[st]['size']\n",
    "            tam_rua = dims[2]\n",
    "            total_tam_ruas += tam_rua\n",
    "            #print(f'rua {st} : {dims}')\n",
    "            \n",
    "        ruas_intersec = 0\n",
    "        for car2 in cars:\n",
    "            path1 = set(path)      \n",
    "            \n",
    "            path2 = bkp_cars[car2]#['path']\n",
    "            #qtde_ruas = len(path2) - 1\n",
    "            path2 = set(path2)\n",
    "            \n",
    "            intersecs = len(path1.intersection(path2))\n",
    "            ruas_intersec += intersecs\n",
    "            \n",
    "        sts_with_intersect = 0#{}\n",
    "        for st in path:\n",
    "            #st_has_intersect[st] = False \n",
    "            for car2 in cars:\n",
    "                path = bkp_cars[car]#['path'] \n",
    "                if st in path:\n",
    "                    #st_has_intersect[st] = True\n",
    "                    sts_with_intersect += 1\n",
    "                    break\n",
    "        #print('sthasinter', st_has_intersect)\n",
    "        score_car = cars[car]['score']\n",
    "        #print(f'{car} : ruas: {qtde_ruas}, tamanhototal: {total_tam_ruas}')\n",
    "        data.append([ car, qtde_ruas, total_tam_ruas, ruas_intersec, sts_with_intersect, score_car ])\n",
    "    df = pd.DataFrame(data, columns=['Carro', 'Ruas', 'Tamanho total', 'Ruas em comum', 'Ruas com intersec', 'Score'])\n",
    "    display(df.describe())\n",
    "    #print(bkp_cars)\n",
    "    #print(schedule)\n",
    "    return df\n",
    "df = data_car(cars, sts, bkp_cars)"
   ]
  },
  {
   "cell_type": "code",
   "execution_count": 4,
   "metadata": {},
   "outputs": [
    {
     "data": {
      "image/png": "[encoded data removed]",
      "text/plain": [
       "<Figure size 720x720 with 2 Axes>"
      ]
     },
     "metadata": {
      "needs_background": "light"
     },
     "output_type": "display_data"
    }
   ],
   "source": [
    "plt.figure(figsize=(10, 10))\n",
    "corr = df.corr()\n",
    "sns.heatmap(corr, annot=True, fmt='.2f', cmap='viridis', vmin=-1, vmax=1);"
   ]
  },
  {
   "cell_type": "code",
   "execution_count": 5,
   "metadata": {
    "tags": []
   },
   "outputs": [
    {
     "data": {
      "text/html": [
       "<div>\n",
       "<style scoped>\n",
       "    .dataframe tbody tr th:only-of-type {\n",
       "        vertical-align: middle;\n",
       "    }\n",
       "\n",
       "    .dataframe tbody tr th {\n",
       "        vertical-align: top;\n",
       "    }\n",
       "\n",
       "    .dataframe thead th {\n",
       "        text-align: right;\n",
       "    }\n",
       "</style>\n",
       "<table border=\"1\" class=\"dataframe\">\n",
       "  <thead>\n",
       "    <tr style=\"text-align: right;\">\n",
       "      <th></th>\n",
       "      <th>Carros que passam por essa rua</th>\n",
       "      <th>Tamanho da Rua</th>\n",
       "      <th>Vem de</th>\n",
       "      <th>Vai para</th>\n",
       "      <th>Quantidade de ruas que desembocam nela</th>\n",
       "      <th>Score dos que passaram</th>\n",
       "    </tr>\n",
       "  </thead>\n",
       "  <tbody>\n",
       "    <tr>\n",
       "      <th>count</th>\n",
       "      <td>998.000000</td>\n",
       "      <td>998.000000</td>\n",
       "      <td>998.000000</td>\n",
       "      <td>998.000000</td>\n",
       "      <td>998.000000</td>\n",
       "      <td>998.000000</td>\n",
       "    </tr>\n",
       "    <tr>\n",
       "      <th>mean</th>\n",
       "      <td>1.842685</td>\n",
       "      <td>50.595190</td>\n",
       "      <td>311.374749</td>\n",
       "      <td>311.625251</td>\n",
       "      <td>63.374749</td>\n",
       "      <td>629.935872</td>\n",
       "    </tr>\n",
       "    <tr>\n",
       "      <th>std</th>\n",
       "      <td>1.657269</td>\n",
       "      <td>28.469034</td>\n",
       "      <td>165.300164</td>\n",
       "      <td>165.206086</td>\n",
       "      <td>107.658911</td>\n",
       "      <td>878.761059</td>\n",
       "    </tr>\n",
       "    <tr>\n",
       "      <th>min</th>\n",
       "      <td>0.000000</td>\n",
       "      <td>1.000000</td>\n",
       "      <td>0.000000</td>\n",
       "      <td>0.000000</td>\n",
       "      <td>1.000000</td>\n",
       "      <td>0.000000</td>\n",
       "    </tr>\n",
       "    <tr>\n",
       "      <th>25%</th>\n",
       "      <td>1.000000</td>\n",
       "      <td>26.000000</td>\n",
       "      <td>166.000000</td>\n",
       "      <td>166.250000</td>\n",
       "      <td>1.000000</td>\n",
       "      <td>0.000000</td>\n",
       "    </tr>\n",
       "    <tr>\n",
       "      <th>50%</th>\n",
       "      <td>1.000000</td>\n",
       "      <td>50.000000</td>\n",
       "      <td>332.000000</td>\n",
       "      <td>332.500000</td>\n",
       "      <td>1.000000</td>\n",
       "      <td>0.000000</td>\n",
       "    </tr>\n",
       "    <tr>\n",
       "      <th>75%</th>\n",
       "      <td>3.000000</td>\n",
       "      <td>75.000000</td>\n",
       "      <td>498.000000</td>\n",
       "      <td>498.750000</td>\n",
       "      <td>2.000000</td>\n",
       "      <td>1053.000000</td>\n",
       "    </tr>\n",
       "    <tr>\n",
       "      <th>max</th>\n",
       "      <td>9.000000</td>\n",
       "      <td>100.000000</td>\n",
       "      <td>499.000000</td>\n",
       "      <td>499.000000</td>\n",
       "      <td>250.000000</td>\n",
       "      <td>4977.000000</td>\n",
       "    </tr>\n",
       "  </tbody>\n",
       "</table>\n",
       "</div>"
      ],
      "text/plain": [
       "       Carros que passam por essa rua  Tamanho da Rua      Vem de    Vai para  \\\n",
       "count                      998.000000      998.000000  998.000000  998.000000   \n",
       "mean                         1.842685       50.595190  311.374749  311.625251   \n",
       "std                          1.657269       28.469034  165.300164  165.206086   \n",
       "min                          0.000000        1.000000    0.000000    0.000000   \n",
       "25%                          1.000000       26.000000  166.000000  166.250000   \n",
       "50%                          1.000000       50.000000  332.000000  332.500000   \n",
       "75%                          3.000000       75.000000  498.000000  498.750000   \n",
       "max                          9.000000      100.000000  499.000000  499.000000   \n",
       "\n",
       "       Quantidade de ruas que desembocam nela  Score dos que passaram  \n",
       "count                              998.000000              998.000000  \n",
       "mean                                63.374749              629.935872  \n",
       "std                                107.658911              878.761059  \n",
       "min                                  1.000000                0.000000  \n",
       "25%                                  1.000000                0.000000  \n",
       "50%                                  1.000000                0.000000  \n",
       "75%                                  2.000000             1053.000000  \n",
       "max                                250.000000             4977.000000  "
      ]
     },
     "metadata": {},
     "output_type": "display_data"
    }
   ],
   "source": [
    "def data_sts(sts, cars, bkp_cars, inters):  \n",
    "    data = []\n",
    "    for st in sts:\n",
    "        #print(sts[st])\n",
    "        cars_with_st = 0\n",
    "        score_st = 0\n",
    "        for car in bkp_cars:\n",
    "            if(st in set(bkp_cars[car])):\n",
    "                cars_with_st += 1\n",
    "                score_st += cars[car]['score']\n",
    "        aux = sts[st]['size']\n",
    "        tam_st = aux[2]\n",
    "        coming = aux[0]\n",
    "        going = aux[1]\n",
    "        qtd_desembocam = len(inters[coming]['sts'])\n",
    "\n",
    "        data.append([cars_with_st, tam_st, coming, going, qtd_desembocam, score_st])\n",
    "    df_st = pd.DataFrame(data, columns=['Carros que passam por essa rua', 'Tamanho da Rua', 'Vem de', 'Vai para', \n",
    "            'Quantidade de ruas que desembocam nela', 'Score dos que passaram'])\n",
    "    display(df_st.describe())\n",
    "    return df_st\n",
    "df_st = data_sts(sts, cars, bkp_cars, inters)"
   ]
  },
  {
   "cell_type": "code",
   "execution_count": 6,
   "metadata": {},
   "outputs": [
    {
     "data": {
      "image/png": "[encoded data removed]",
      "text/plain": [
       "<Figure size 720x720 with 2 Axes>"
      ]
     },
     "metadata": {
      "needs_background": "light"
     },
     "output_type": "display_data"
    }
   ],
   "source": [
    "plt.figure(figsize=(10, 10))\n",
    "corr = df_st.corr()\n",
    "sns.heatmap(corr, annot=True, fmt='.2f', cmap='viridis', vmin=-1, vmax=1);\n",
    "#print(bkp_cars)"
   ]
  },
  {
   "cell_type": "code",
   "execution_count": 7,
   "metadata": {},
   "outputs": [
    {
     "data": {
      "image/png": "[encoded data removed]",
      "text/plain": [
       "<Figure size 432x288 with 1 Axes>"
      ]
     },
     "metadata": {
      "needs_background": "light"
     },
     "output_type": "display_data"
    }
   ],
   "source": [
    "import numpy\n",
    "from sklearn.metrics import r2_score\n",
    "\n",
    "x = [1,2,3,5,6,7,8,9,10,12,13,14,15,16,18,19,21,22]\n",
    "y = [100,90,80,60,60,55,60,65,70,70,75,76,78,79,90,99,99,100]\n",
    "\n",
    "mymodel = numpy.poly1d(numpy.polyfit(x, y, 3))\n",
    "\n",
    "speed = mymodel(17)\n",
    "\n",
    "myline = numpy.linspace(1, 22, 100)\n",
    "\n",
    "plt.scatter(x, y)\n",
    "plt.plot(myline, mymodel(myline))\n",
    "plt.show()\n",
    "\n",
    "#print(speed) "
   ]
  },
  {
   "cell_type": "code",
   "execution_count": 8,
   "metadata": {},
   "outputs": [],
   "source": [
    "def transform_schedule(schedule, score_t): \n",
    "    new_schedule = {}\n",
    "    for _, value in schedule.items():\n",
    "        progs = value['prog'].copy()\n",
    "        for prog in progs:\n",
    "            st_name = prog['st']\n",
    "            t = prog['t']\n",
    "            #prog['score'] = score\n",
    "            new_schedule[st_name] = {'t': t, 'score': score_t}\n",
    "    return new_schedule\n",
    "#transform_schedule(schedule, total)"
   ]
  },
  {
   "cell_type": "code",
   "execution_count": 9,
   "metadata": {
    "scrolled": true,
    "tags": []
   },
   "outputs": [],
   "source": [
    "#dic = {}\n",
    "import json\n",
    "\n",
    "def get_dataset(name, n_samples=1, max_time=3, old_schedule=None):\n",
    "    X, y = [], []\n",
    "    schedules = []\n",
    "    for t in range(0, n_samples):\n",
    "        cars, bkp_cars, finished_cars, total, sts, inters, schedule, total, new_old_schedule = score_geral(name, \n",
    "                                                                                         max_time=max_time, \n",
    "                                                                                        old_schedule=old_schedule)\n",
    "        \n",
    "        schedules.append( new_old_schedule.copy() )\n",
    "        schedule = transform_schedule(schedule, total)\n",
    "        #print(schedule)\n",
    "        row_in = []\n",
    "        row_out = 0\n",
    "        for _, value in schedule.items():\n",
    "            row_in.append(value['t'])\n",
    "            row_out = value['score']\n",
    "            \n",
    "        X.append(row_in)\n",
    "        y.append(row_out)\n",
    "        \n",
    "        #print(f'{t} foi')\n",
    "    #st_schedules = [json.dumps(schedule) for schedule in schedules]\n",
    "    #st_schedules = pd.DataFrame(data=st_schedules, columns=['schedule'])\n",
    "    #print('st_schedules = ', st_schedules)\n",
    "    known_schedules = set()\n",
    "    not_duplicate_schedules = []\n",
    "    for schedule in schedules.copy():\n",
    "        st_schedule = str(schedule)\n",
    "        if st_schedule not in known_schedules:\n",
    "            known_schedules.add(st_schedule)\n",
    "            not_duplicate_schedules.append(schedule)\n",
    "            \n",
    "        \n",
    "    X = pd.DataFrame(X)\n",
    "    y = pd.DataFrame(data=y, columns=['score'])\n",
    "    \n",
    "    # Proximo episodio: juntar X com y e tirar duplicatas\n",
    "    z = pd.concat([X, y], axis=1)\n",
    "    z.drop_duplicates(inplace=True)\n",
    "    #print(z.shape)\n",
    "    \n",
    "    n_cols = z.shape[1]\n",
    "    col_names = [i for i in range(n_cols)]\n",
    "    z.set_axis(col_names, axis=1)\n",
    "\n",
    "    #st_schedules = z[['schedule']]\n",
    "    y = z[['score']]\n",
    "    X = z.drop(columns=['score'])\n",
    "    \n",
    "    #import ast\n",
    "    #schedules = []\n",
    "    #l = list(st_schedules['schedule'])\n",
    "    #print('list schdules: ', l)\n",
    "    #print('tam: ', len(l))\n",
    "    #for st_schedule in l:\n",
    "    #    print('item da lista')\n",
    "    #    schedule = {}#json.dumps(json.dumps(st_schedule, indent=4), indent=4)\n",
    "    #    print('schedule reconstruido: ', schedule)\n",
    "    #    schedules.append(schedule)\n",
    "    #print('schedules = ', schedules)\n",
    "    \n",
    "    return X, y, not_duplicate_schedules\n",
    "\n",
    "X, y, not_duplicate_schedules = get_dataset('a', n_samples=1000)#[2]#.describe()\n",
    "#X.shape, y.shape, len(not_duplicate_schedules), not_duplicate_schedules\n",
    "#z[['score']]\n",
    "#X.describe(), y.describe()"
   ]
  },
  {
   "cell_type": "code",
   "execution_count": 10,
   "metadata": {},
   "outputs": [
    {
     "name": "stdout",
     "output_type": "stream",
     "text": [
      "[[ 1.  0.  1.  0.  0.  1.  0.  0.  0.  1.]\n",
      " [ 1.  2.  3.  4.  6.  9.  8. 12. 18. 27.]] \n",
      "\n",
      "[[ 1.  0.  1.  0.  0.  1.  0.  0.  0.  1.]\n",
      " [ 1.  2.  3.  4.  6.  9.  8. 12. 18. 27.]]\n"
     ]
    }
   ],
   "source": [
    "import numpy as np\n",
    "from sklearn.preprocessing import PolynomialFeatures\n",
    "linhas = 2\n",
    "variaveis = 2\n",
    "X = np.arange(linhas * variaveis).reshape(linhas, variaveis)\n",
    "\n",
    "y = [[1, 3], [2,1]]\n",
    "deg = 3\n",
    "\n",
    "poly = PolynomialFeatures(deg)\n",
    "print(poly.fit_transform(X, y), '\\n')\n",
    "\n",
    "\n",
    "\n",
    "poly = PolynomialFeatures(deg, interaction_only=False)\n",
    "print(poly.fit_transform(X))\n"
   ]
  },
  {
   "cell_type": "code",
   "execution_count": 11,
   "metadata": {},
   "outputs": [
    {
     "name": "stdout",
     "output_type": "stream",
     "text": [
      "[[0 0]\n",
      " [1 0]\n",
      " [0 1]\n",
      " [2 0]\n",
      " [1 1]\n",
      " [0 2]\n",
      " [3 0]\n",
      " [2 1]\n",
      " [1 2]\n",
      " [0 3]]\n"
     ]
    }
   ],
   "source": [
    "print(poly.powers_)"
   ]
  },
  {
   "cell_type": "code",
   "execution_count": 12,
   "metadata": {},
   "outputs": [
    {
     "data": {
      "image/png": "[encoded data removed]",
      "text/plain": [
       "<Figure size 432x288 with 1 Axes>"
      ]
     },
     "metadata": {
      "needs_background": "light"
     },
     "output_type": "display_data"
    }
   ],
   "source": [
    "import pandas as pd\n",
    "#xdic={'X': {11: 300, 12: 170, 13: 99, 14: }} \n",
    "#ydic={'y': {11: 305000, 12: 270000}}\n",
    "\n",
    "def pol(x):\n",
    "    x = x + random.random()\n",
    "    return (x*x*x + 3*x + 34 )\n",
    "\n",
    "xdic = [-3, -1, 0, 4, 3, 2]#, [-3, -1, 0, 4, 3, 2]]\n",
    "ydic = [pol(el)for el in xdic] #,  [pol(el)for el in xdic[1]]]\n",
    "X = pd.DataFrame.from_dict(xdic)\n",
    "y = pd.DataFrame.from_dict(ydic)\n",
    "\n",
    "import numpy as np4\n",
    "X_seq = np.linspace(X.min(), X.max(), 300).reshape(-1,1)\n",
    "\n",
    "from sklearn.preprocessing import PolynomialFeatures\n",
    "from sklearn.pipeline import make_pipeline\n",
    "from sklearn.linear_model import LinearRegression\n",
    "#from sklearn.svm import SVC\n",
    "\n",
    "degree = 3\n",
    "polyreg = make_pipeline(PolynomialFeatures(degree), LinearRegression())\n",
    "polyreg.fit(X,y)\n",
    "\n",
    "import matplotlib.pyplot as plt\n",
    "plt.figure()\n",
    "plt.scatter(X,y)\n",
    "plt.plot(X_seq,polyreg.predict(X_seq),color=\"black\")\n",
    "plt.title(\"Polynomial regression with degree \"+str(degree))\n",
    "plt.show()"
   ]
  },
  {
   "cell_type": "code",
   "execution_count": 13,
   "metadata": {},
   "outputs": [],
   "source": [
    "# example of a multi-output regression problem\n",
    "#from sklearn.datasets import make_regression\n",
    "# create dataset\n",
    "#X, y = make_regression(n_samples=1000, n_features=10, n_informative=5, n_targets=3, random_state=2)\n",
    "# summarize shape\n",
    "#print(X.shape, y.shape)"
   ]
  },
  {
   "cell_type": "code",
   "execution_count": 14,
   "metadata": {},
   "outputs": [
    {
     "data": {
      "text/html": [
       "<div>\n",
       "<style scoped>\n",
       "    .dataframe tbody tr th:only-of-type {\n",
       "        vertical-align: middle;\n",
       "    }\n",
       "\n",
       "    .dataframe tbody tr th {\n",
       "        vertical-align: top;\n",
       "    }\n",
       "\n",
       "    .dataframe thead th {\n",
       "        text-align: right;\n",
       "    }\n",
       "</style>\n",
       "<table border=\"1\" class=\"dataframe\">\n",
       "  <thead>\n",
       "    <tr style=\"text-align: right;\">\n",
       "      <th></th>\n",
       "      <th>0</th>\n",
       "    </tr>\n",
       "  </thead>\n",
       "  <tbody>\n",
       "    <tr>\n",
       "      <th>0</th>\n",
       "      <td>-3</td>\n",
       "    </tr>\n",
       "    <tr>\n",
       "      <th>1</th>\n",
       "      <td>-1</td>\n",
       "    </tr>\n",
       "    <tr>\n",
       "      <th>2</th>\n",
       "      <td>0</td>\n",
       "    </tr>\n",
       "    <tr>\n",
       "      <th>3</th>\n",
       "      <td>4</td>\n",
       "    </tr>\n",
       "    <tr>\n",
       "      <th>4</th>\n",
       "      <td>3</td>\n",
       "    </tr>\n",
       "  </tbody>\n",
       "</table>\n",
       "</div>"
      ],
      "text/plain": [
       "   0\n",
       "0 -3\n",
       "1 -1\n",
       "2  0\n",
       "3  4\n",
       "4  3"
      ]
     },
     "execution_count": 14,
     "metadata": {},
     "output_type": "execute_result"
    }
   ],
   "source": [
    "pd.DataFrame(X).head()"
   ]
  },
  {
   "cell_type": "code",
   "execution_count": 15,
   "metadata": {},
   "outputs": [],
   "source": [
    "# mlp for multi-output regression\n",
    "from numpy import mean\n",
    "from numpy import std\n",
    "from sklearn.datasets import make_regression\n",
    "from sklearn.model_selection import RepeatedKFold\n",
    "from tensorflow.keras.models import Sequential\n",
    "from tensorflow.keras.layers import Dense"
   ]
  },
  {
   "cell_type": "code",
   "execution_count": 16,
   "metadata": {},
   "outputs": [
    {
     "name": "stdout",
     "output_type": "stream",
     "text": [
      "WARNING:tensorflow:From /home/arthur/.local/lib/python3.6/site-packages/tensorflow/python/ops/init_ops.py:1251: calling VarianceScaling.__init__ (from tensorflow.python.ops.init_ops) with dtype is deprecated and will be removed in a future version.\n",
      "Instructions for updating:\n",
      "Call initializer instance with the dtype argument instead of passing it to the constructor\n"
     ]
    }
   ],
   "source": [
    "model = Sequential()\n",
    "model.add(Dense(20, input_dim=10, kernel_initializer='he_uniform', activation='relu'))\n",
    "model.add(Dense(3))\n",
    "model.compile(loss='mae', optimizer='adam')"
   ]
  },
  {
   "cell_type": "code",
   "execution_count": 17,
   "metadata": {},
   "outputs": [],
   "source": [
    "# get the dataset\n",
    "#def get_dataset():\n",
    "\t#X, y = make_regression(n_samples=1000, n_features=10, n_informative=5, n_targets=3, random_state=2)\n",
    "\t\n",
    "#    return X, y"
   ]
  },
  {
   "cell_type": "code",
   "execution_count": 18,
   "metadata": {},
   "outputs": [],
   "source": [
    "# get the model\n",
    "def get_model(n_inputs, n_outputs):\n",
    "\tmodel = Sequential()\n",
    "\tmodel.add(Dense(20, input_dim=n_inputs, kernel_initializer='he_uniform', activation='relu'))\n",
    "\tmodel.add(Dense(n_outputs))\n",
    "\tmodel.compile(loss='mae', optimizer='adam')\n",
    "\treturn model"
   ]
  },
  {
   "cell_type": "code",
   "execution_count": 19,
   "metadata": {},
   "outputs": [],
   "source": [
    "# evaluate a model using repeated k-fold cross-validation\n",
    "def evaluate_model(X, y):\n",
    "    results = list()\n",
    "    print('corno')\n",
    "    print(X.shape)\n",
    "    print(y.shape)\n",
    "    n_inputs, n_outputs = X.shape[1], y.shape[1]\n",
    "    # define evaluation procedure\n",
    "    cv = RepeatedKFold(n_splits=10, n_repeats=3, random_state=1)\n",
    "    # enumerate folds\n",
    "    #for train_ix, test_ix in cv.split(X):\n",
    "    #    print('SO VOU PASSAR  UMA VEZ')\n",
    "        # prepare data\n",
    "    #    X_train, X_test = X.iloc[train_ix], X.iloc[test_ix]#X[train_ix], X[test_ix]\n",
    "    #    y_train, y_test = y.iloc[train_ix], y.iloc[test_ix]\n",
    "        \n",
    "        # define model\n",
    "    model = get_model(n_inputs, n_outputs)\n",
    "        \n",
    "        # fit model\n",
    "    model.fit(X, y, verbose=0, epochs=100)\n",
    "        \n",
    "        # evaluate model on test set\n",
    "    #    mae = model.evaluate(X_test, y_test, verbose=0)\n",
    "        \n",
    "        # store result\n",
    "    #    print('>%.1f' % mae)\n",
    "    #    results.append(mae)\n",
    "        \n",
    "    #import pdb; pdb.set_trace()\n",
    "    return results"
   ]
  },
  {
   "cell_type": "code",
   "execution_count": 27,
   "metadata": {},
   "outputs": [],
   "source": [
    "def find_max_score_random(max_time=3, old_schedule=None): \n",
    "    # load dataset\n",
    "    X, y, old_schedule = get_dataset('a', n_samples=500, max_time=max_time, old_schedule=old_schedule)\n",
    "\n",
    "    # evaluate model\n",
    "    results = evaluate_model(X, y)\n",
    "\n",
    "    # summarize performance\n",
    "    #print('MAE: max: %.1f;  media: %.1f +/- (%.1f)' % (max(results), mean(results), std(results)))\n",
    "    return old_schedule\n",
    "    \n",
    "    "
   ]
  },
  {
   "cell_type": "code",
   "execution_count": 28,
   "metadata": {},
   "outputs": [
    {
     "name": "stdout",
     "output_type": "stream",
     "text": [
      "corno\n",
      "(499, 5)\n",
      "(499, 1)\n"
     ]
    },
    {
     "ename": "AttributeError",
     "evalue": "'list' object has no attribute 'keys'",
     "output_type": "error",
     "traceback": [
      "\u001b[0;31m---------------------------------------------------------------------------\u001b[0m",
      "\u001b[0;31mAttributeError\u001b[0m                            Traceback (most recent call last)",
      "\u001b[0;32m<ipython-input-28-83bf783f2933>\u001b[0m in \u001b[0;36m<module>\u001b[0;34m\u001b[0m\n\u001b[1;32m      8\u001b[0m \u001b[0;34m\u001b[0m\u001b[0m\n\u001b[1;32m      9\u001b[0m \u001b[0;32mwhile\u001b[0m \u001b[0mend\u001b[0m \u001b[0;34m-\u001b[0m \u001b[0mstart\u001b[0m \u001b[0;34m<=\u001b[0m \u001b[0mmax_sec\u001b[0m\u001b[0;34m:\u001b[0m\u001b[0;34m\u001b[0m\u001b[0;34m\u001b[0m\u001b[0m\n\u001b[0;32m---> 10\u001b[0;31m     \u001b[0mold_schedule\u001b[0m \u001b[0;34m=\u001b[0m \u001b[0mfind_max_score_random\u001b[0m\u001b[0;34m(\u001b[0m\u001b[0mmax_time\u001b[0m\u001b[0;34m=\u001b[0m\u001b[0mmax_time\u001b[0m\u001b[0;34m,\u001b[0m \u001b[0mold_schedule\u001b[0m\u001b[0;34m=\u001b[0m\u001b[0mold_schedule\u001b[0m\u001b[0;34m)\u001b[0m\u001b[0;34m\u001b[0m\u001b[0;34m\u001b[0m\u001b[0m\n\u001b[0m\u001b[1;32m     11\u001b[0m \u001b[0;34m\u001b[0m\u001b[0m\n\u001b[1;32m     12\u001b[0m     \u001b[0mend\u001b[0m \u001b[0;34m=\u001b[0m \u001b[0mtime\u001b[0m\u001b[0;34m.\u001b[0m\u001b[0mtime\u001b[0m\u001b[0;34m(\u001b[0m\u001b[0;34m)\u001b[0m\u001b[0;34m\u001b[0m\u001b[0;34m\u001b[0m\u001b[0m\n",
      "\u001b[0;32m<ipython-input-27-d46f16ed661b>\u001b[0m in \u001b[0;36mfind_max_score_random\u001b[0;34m(max_time, old_schedule)\u001b[0m\n\u001b[1;32m      1\u001b[0m \u001b[0;32mdef\u001b[0m \u001b[0mfind_max_score_random\u001b[0m\u001b[0;34m(\u001b[0m\u001b[0mmax_time\u001b[0m\u001b[0;34m=\u001b[0m\u001b[0;36m3\u001b[0m\u001b[0;34m,\u001b[0m \u001b[0mold_schedule\u001b[0m\u001b[0;34m=\u001b[0m\u001b[0;32mNone\u001b[0m\u001b[0;34m)\u001b[0m\u001b[0;34m:\u001b[0m\u001b[0;34m\u001b[0m\u001b[0;34m\u001b[0m\u001b[0m\n\u001b[1;32m      2\u001b[0m     \u001b[0;31m# load dataset\u001b[0m\u001b[0;34m\u001b[0m\u001b[0;34m\u001b[0m\u001b[0;34m\u001b[0m\u001b[0m\n\u001b[0;32m----> 3\u001b[0;31m     \u001b[0mX\u001b[0m\u001b[0;34m,\u001b[0m \u001b[0my\u001b[0m\u001b[0;34m,\u001b[0m \u001b[0mold_schedule\u001b[0m \u001b[0;34m=\u001b[0m \u001b[0mget_dataset\u001b[0m\u001b[0;34m(\u001b[0m\u001b[0;34m'a'\u001b[0m\u001b[0;34m,\u001b[0m \u001b[0mn_samples\u001b[0m\u001b[0;34m=\u001b[0m\u001b[0;36m500\u001b[0m\u001b[0;34m,\u001b[0m \u001b[0mmax_time\u001b[0m\u001b[0;34m=\u001b[0m\u001b[0mmax_time\u001b[0m\u001b[0;34m,\u001b[0m \u001b[0mold_schedule\u001b[0m\u001b[0;34m=\u001b[0m\u001b[0mold_schedule\u001b[0m\u001b[0;34m)\u001b[0m\u001b[0;34m\u001b[0m\u001b[0;34m\u001b[0m\u001b[0m\n\u001b[0m\u001b[1;32m      4\u001b[0m \u001b[0;34m\u001b[0m\u001b[0m\n\u001b[1;32m      5\u001b[0m     \u001b[0;31m# evaluate model\u001b[0m\u001b[0;34m\u001b[0m\u001b[0;34m\u001b[0m\u001b[0;34m\u001b[0m\u001b[0m\n",
      "\u001b[0;32m<ipython-input-9-231d68538bb8>\u001b[0m in \u001b[0;36mget_dataset\u001b[0;34m(name, n_samples, max_time, old_schedule)\u001b[0m\n\u001b[1;32m      8\u001b[0m         cars, bkp_cars, finished_cars, total, sts, inters, schedule, total, new_old_schedule = score_geral(name, \n\u001b[1;32m      9\u001b[0m                                                                                          \u001b[0mmax_time\u001b[0m\u001b[0;34m=\u001b[0m\u001b[0mmax_time\u001b[0m\u001b[0;34m,\u001b[0m\u001b[0;34m\u001b[0m\u001b[0;34m\u001b[0m\u001b[0m\n\u001b[0;32m---> 10\u001b[0;31m                                                                                         old_schedule=old_schedule)\n\u001b[0m\u001b[1;32m     11\u001b[0m \u001b[0;34m\u001b[0m\u001b[0m\n\u001b[1;32m     12\u001b[0m         \u001b[0mschedules\u001b[0m\u001b[0;34m.\u001b[0m\u001b[0mappend\u001b[0m\u001b[0;34m(\u001b[0m \u001b[0mnew_old_schedule\u001b[0m\u001b[0;34m.\u001b[0m\u001b[0mcopy\u001b[0m\u001b[0;34m(\u001b[0m\u001b[0;34m)\u001b[0m \u001b[0;34m)\u001b[0m\u001b[0;34m\u001b[0m\u001b[0;34m\u001b[0m\u001b[0m\n",
      "\u001b[0;32m<ipython-input-2-f8b86a27b786>\u001b[0m in \u001b[0;36mscore_geral\u001b[0;34m(namefile, max_time, old_schedule)\u001b[0m\n\u001b[1;32m      4\u001b[0m \u001b[0;34m\u001b[0m\u001b[0m\n\u001b[1;32m      5\u001b[0m     \u001b[0mD\u001b[0m\u001b[0;34m,\u001b[0m\u001b[0mI\u001b[0m\u001b[0;34m,\u001b[0m\u001b[0mS\u001b[0m\u001b[0;34m,\u001b[0m\u001b[0mV\u001b[0m\u001b[0;34m,\u001b[0m\u001b[0mF\u001b[0m\u001b[0;34m,\u001b[0m \u001b[0msts\u001b[0m\u001b[0;34m,\u001b[0m \u001b[0mcars\u001b[0m\u001b[0;34m,\u001b[0m \u001b[0minters\u001b[0m \u001b[0;34m=\u001b[0m \u001b[0mpega_input\u001b[0m\u001b[0;34m(\u001b[0m\u001b[0mentrada\u001b[0m\u001b[0;34m.\u001b[0m\u001b[0mreadline\u001b[0m\u001b[0;34m)\u001b[0m\u001b[0;34m\u001b[0m\u001b[0;34m\u001b[0m\u001b[0m\n\u001b[0;32m----> 6\u001b[0;31m     \u001b[0mschedule\u001b[0m \u001b[0;34m=\u001b[0m \u001b[0msol_batata\u001b[0m\u001b[0;34m(\u001b[0m\u001b[0mD\u001b[0m\u001b[0;34m,\u001b[0m\u001b[0mI\u001b[0m\u001b[0;34m,\u001b[0m\u001b[0mS\u001b[0m\u001b[0;34m,\u001b[0m\u001b[0mV\u001b[0m\u001b[0;34m,\u001b[0m\u001b[0mF\u001b[0m\u001b[0;34m,\u001b[0m \u001b[0msts\u001b[0m\u001b[0;34m,\u001b[0m \u001b[0mcars\u001b[0m\u001b[0;34m,\u001b[0m \u001b[0minters\u001b[0m\u001b[0;34m,\u001b[0m \u001b[0mmax_time\u001b[0m\u001b[0;34m=\u001b[0m\u001b[0mmax_time\u001b[0m\u001b[0;34m,\u001b[0m \u001b[0mold_schedule\u001b[0m\u001b[0;34m=\u001b[0m\u001b[0mold_schedule\u001b[0m\u001b[0;34m)\u001b[0m\u001b[0;34m\u001b[0m\u001b[0;34m\u001b[0m\u001b[0m\n\u001b[0m\u001b[1;32m      7\u001b[0m \u001b[0;34m\u001b[0m\u001b[0m\n\u001b[1;32m      8\u001b[0m     \u001b[0mnew_old_schedule\u001b[0m \u001b[0;34m=\u001b[0m \u001b[0mschedule\u001b[0m\u001b[0;34m.\u001b[0m\u001b[0mcopy\u001b[0m\u001b[0;34m(\u001b[0m\u001b[0;34m)\u001b[0m\u001b[0;34m\u001b[0m\u001b[0;34m\u001b[0m\u001b[0m\n",
      "\u001b[0;32m~/Documents/Maratona/MaratonUSP/IA/funcs.py\u001b[0m in \u001b[0;36msol_batata\u001b[0;34m(D, I, S, V, F, sts, cars, inters, max_time, old_schedule)\u001b[0m\n\u001b[1;32m     43\u001b[0m         \u001b[0;32mfor\u001b[0m \u001b[0mst\u001b[0m \u001b[0;32min\u001b[0m \u001b[0minters\u001b[0m\u001b[0;34m[\u001b[0m\u001b[0minter\u001b[0m\u001b[0;34m]\u001b[0m\u001b[0;34m:\u001b[0m\u001b[0;34m\u001b[0m\u001b[0;34m\u001b[0m\u001b[0m\n\u001b[1;32m     44\u001b[0m             \u001b[0mnew_time\u001b[0m \u001b[0;34m=\u001b[0m \u001b[0;36m1\u001b[0m\u001b[0;34m\u001b[0m\u001b[0;34m\u001b[0m\u001b[0m\n\u001b[0;32m---> 45\u001b[0;31m             \u001b[0;32mif\u001b[0m \u001b[0mold_schedule\u001b[0m \u001b[0;34m!=\u001b[0m \u001b[0;32mNone\u001b[0m \u001b[0;32mand\u001b[0m \u001b[0;34m(\u001b[0m\u001b[0minter\u001b[0m \u001b[0;32min\u001b[0m \u001b[0mset\u001b[0m\u001b[0;34m(\u001b[0m\u001b[0mold_schedule\u001b[0m\u001b[0;34m.\u001b[0m\u001b[0mkeys\u001b[0m\u001b[0;34m(\u001b[0m\u001b[0;34m)\u001b[0m\u001b[0;34m)\u001b[0m\u001b[0;34m)\u001b[0m\u001b[0;34m:\u001b[0m\u001b[0;34m\u001b[0m\u001b[0;34m\u001b[0m\u001b[0m\n\u001b[0m\u001b[1;32m     46\u001b[0m                 \u001b[0mlast_schedule\u001b[0m \u001b[0;34m=\u001b[0m \u001b[0mold_schedule\u001b[0m\u001b[0;34m[\u001b[0m\u001b[0minter\u001b[0m\u001b[0;34m]\u001b[0m\u001b[0;34m\u001b[0m\u001b[0;34m\u001b[0m\u001b[0m\n\u001b[1;32m     47\u001b[0m                 \u001b[0mlast_time\u001b[0m \u001b[0;34m=\u001b[0m \u001b[0mlast_schedule\u001b[0m\u001b[0;34m[\u001b[0m\u001b[0;34m't'\u001b[0m\u001b[0;34m]\u001b[0m\u001b[0;34m\u001b[0m\u001b[0;34m\u001b[0m\u001b[0m\n",
      "\u001b[0;31mAttributeError\u001b[0m: 'list' object has no attribute 'keys'"
     ]
    }
   ],
   "source": [
    "import time\n",
    "\n",
    "max_sec = 60 * 2 #segundos\n",
    "start = time.time()\n",
    "end = time.time()\n",
    "old_schedule = None\n",
    "max_time = 10\n",
    "\n",
    "while end - start <= max_sec:\n",
    "    old_schedule = find_max_score_random(max_time=max_time, old_schedule=old_schedule)\n",
    "    import pdb; pdb.set_trace()\n",
    "    \n",
    "    end = time.time()"
   ]
  },
  {
   "cell_type": "code",
   "execution_count": null,
   "metadata": {},
   "outputs": [],
   "source": []
  },
  {
   "cell_type": "code",
   "execution_count": null,
   "metadata": {},
   "outputs": [],
   "source": []
  },
  {
   "cell_type": "code",
   "execution_count": null,
   "metadata": {},
   "outputs": [],
   "source": []
  }
 ],
 "metadata": {
  "kernelspec": {
   "display_name": "Python 3",
   "language": "python",
   "name": "python3"
  },
  "language_info": {
   "codemirror_mode": {
    "name": "ipython",
    "version": 3
   },
   "file_extension": ".py",
   "mimetype": "text/x-python",
   "name": "python",
   "nbconvert_exporter": "python",
   "pygments_lexer": "ipython3",
   "version": "3.6.9"
  },
  "metadata": {
   "interpreter": {
    "hash": "31f2aee4e71d21fbe5cf8b01ff0e069b9275f58929596ceb00d14d90e3e16cd6"
   }
  }
 },
 "nbformat": 4,
 "nbformat_minor": 4
}
