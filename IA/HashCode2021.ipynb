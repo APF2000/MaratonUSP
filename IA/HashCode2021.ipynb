{
 "cells": [
  {
   "cell_type": "code",
   "execution_count": 1,
   "metadata": {},
   "outputs": [],
   "source": [
    "import numpy as np\n",
    "import pandas as pd\n",
    "import matplotlib.pyplot as plt\n",
    "\n",
    "\n",
    "import sys\n",
    "import os\n",
    "from funcs import *\n",
    "from simulator import *\n",
    "import seaborn as sns"
   ]
  },
  {
   "cell_type": "code",
   "execution_count": 2,
   "metadata": {
    "tags": []
   },
   "outputs": [],
   "source": [
    "def score_geral(namefile):\n",
    "    entrada = open(f'in/{namefile}.txt', 'r')\n",
    "    saida = open(f'out/{namefile}.out', 'w')\n",
    "\n",
    "    D,I,S,V,F, sts, cars, inters = pega_input(entrada.readline)\n",
    "    schedule = sol_batata(D,I,S,V,F, sts, cars, inters)\n",
    "    output = form_out(schedule)[:-1]\n",
    "    bkp_cars = cars.copy()\n",
    "    total, finished_cars = score(D, F, sts, cars, inters, schedule)\n",
    "    #print(f'score: {total:,}')\n",
    "    return cars, bkp_cars, finished_cars, total, sts, inters, schedule, total\n",
    "cars, bkp_cars, finished_cars, total, sts, inters, schedule, total = score_geral(\"e\")"
   ]
  },
  {
   "cell_type": "code",
   "execution_count": 3,
   "metadata": {
    "tags": []
   },
   "outputs": [
    {
     "data": {
      "text/html": [
       "<div>\n",
       "<style scoped>\n",
       "    .dataframe tbody tr th:only-of-type {\n",
       "        vertical-align: middle;\n",
       "    }\n",
       "\n",
       "    .dataframe tbody tr th {\n",
       "        vertical-align: top;\n",
       "    }\n",
       "\n",
       "    .dataframe thead th {\n",
       "        text-align: right;\n",
       "    }\n",
       "</style>\n",
       "<table border=\"1\" class=\"dataframe\">\n",
       "  <thead>\n",
       "    <tr style=\"text-align: right;\">\n",
       "      <th></th>\n",
       "      <th>Carro</th>\n",
       "      <th>Ruas</th>\n",
       "      <th>Tamanho total</th>\n",
       "      <th>Ruas em comum</th>\n",
       "      <th>Ruas com intersec</th>\n",
       "      <th>Score</th>\n",
       "    </tr>\n",
       "  </thead>\n",
       "  <tbody>\n",
       "    <tr>\n",
       "      <th>count</th>\n",
       "      <td>1000.000000</td>\n",
       "      <td>1000.000000</td>\n",
       "      <td>1000.000000</td>\n",
       "      <td>1000.000000</td>\n",
       "      <td>1000.000000</td>\n",
       "      <td>1000.000000</td>\n",
       "    </tr>\n",
       "    <tr>\n",
       "      <th>mean</th>\n",
       "      <td>499.500000</td>\n",
       "      <td>1.778000</td>\n",
       "      <td>38.491000</td>\n",
       "      <td>5.860000</td>\n",
       "      <td>1.778000</td>\n",
       "      <td>623.318000</td>\n",
       "    </tr>\n",
       "    <tr>\n",
       "      <th>std</th>\n",
       "      <td>288.819436</td>\n",
       "      <td>1.717459</td>\n",
       "      <td>86.491287</td>\n",
       "      <td>5.948427</td>\n",
       "      <td>1.717459</td>\n",
       "      <td>421.624872</td>\n",
       "    </tr>\n",
       "    <tr>\n",
       "      <th>min</th>\n",
       "      <td>0.000000</td>\n",
       "      <td>1.000000</td>\n",
       "      <td>0.000000</td>\n",
       "      <td>1.000000</td>\n",
       "      <td>1.000000</td>\n",
       "      <td>0.000000</td>\n",
       "    </tr>\n",
       "    <tr>\n",
       "      <th>25%</th>\n",
       "      <td>249.750000</td>\n",
       "      <td>1.000000</td>\n",
       "      <td>0.000000</td>\n",
       "      <td>3.000000</td>\n",
       "      <td>1.000000</td>\n",
       "      <td>0.000000</td>\n",
       "    </tr>\n",
       "    <tr>\n",
       "      <th>50%</th>\n",
       "      <td>499.500000</td>\n",
       "      <td>1.000000</td>\n",
       "      <td>0.000000</td>\n",
       "      <td>4.000000</td>\n",
       "      <td>1.000000</td>\n",
       "      <td>752.000000</td>\n",
       "    </tr>\n",
       "    <tr>\n",
       "      <th>75%</th>\n",
       "      <td>749.250000</td>\n",
       "      <td>1.000000</td>\n",
       "      <td>0.000000</td>\n",
       "      <td>6.000000</td>\n",
       "      <td>1.000000</td>\n",
       "      <td>975.250000</td>\n",
       "    </tr>\n",
       "    <tr>\n",
       "      <th>max</th>\n",
       "      <td>999.000000</td>\n",
       "      <td>10.000000</td>\n",
       "      <td>467.000000</td>\n",
       "      <td>39.000000</td>\n",
       "      <td>10.000000</td>\n",
       "      <td>1173.000000</td>\n",
       "    </tr>\n",
       "  </tbody>\n",
       "</table>\n",
       "</div>"
      ],
      "text/plain": [
       "             Carro         Ruas  Tamanho total  Ruas em comum  \\\n",
       "count  1000.000000  1000.000000    1000.000000    1000.000000   \n",
       "mean    499.500000     1.778000      38.491000       5.860000   \n",
       "std     288.819436     1.717459      86.491287       5.948427   \n",
       "min       0.000000     1.000000       0.000000       1.000000   \n",
       "25%     249.750000     1.000000       0.000000       3.000000   \n",
       "50%     499.500000     1.000000       0.000000       4.000000   \n",
       "75%     749.250000     1.000000       0.000000       6.000000   \n",
       "max     999.000000    10.000000     467.000000      39.000000   \n",
       "\n",
       "       Ruas com intersec        Score  \n",
       "count        1000.000000  1000.000000  \n",
       "mean            1.778000   623.318000  \n",
       "std             1.717459   421.624872  \n",
       "min             1.000000     0.000000  \n",
       "25%             1.000000     0.000000  \n",
       "50%             1.000000   752.000000  \n",
       "75%             1.000000   975.250000  \n",
       "max            10.000000  1173.000000  "
      ]
     },
     "metadata": {},
     "output_type": "display_data"
    }
   ],
   "source": [
    "# Cada linha é um carro, cada coluna é uma estatística do carro\n",
    "def data_car(cars, sts, bkp_cars):\n",
    "    data = []\n",
    "    cars.update(finished_cars)\n",
    "    for car in cars:\n",
    "        #print(cars[car])\n",
    "        path = bkp_cars[car]#['path']\n",
    "        qtde_ruas = len(path)# - 1\n",
    "        \n",
    "        total_tam_ruas = 0\n",
    "        for st in path[1:]:\n",
    "            dims = sts[st]['size']\n",
    "            tam_rua = dims[2]\n",
    "            total_tam_ruas += tam_rua\n",
    "            #print(f'rua {st} : {dims}')\n",
    "            \n",
    "        ruas_intersec = 0\n",
    "        for car2 in cars:\n",
    "            path1 = set(path)      \n",
    "            \n",
    "            path2 = bkp_cars[car2]#['path']\n",
    "            #qtde_ruas = len(path2) - 1\n",
    "            path2 = set(path2)\n",
    "            \n",
    "            intersecs = len(path1.intersection(path2))\n",
    "            ruas_intersec += intersecs\n",
    "            \n",
    "        sts_with_intersect = 0#{}\n",
    "        for st in path:\n",
    "            #st_has_intersect[st] = False \n",
    "            for car2 in cars:\n",
    "                path = bkp_cars[car]#['path'] \n",
    "                if st in path:\n",
    "                    #st_has_intersect[st] = True\n",
    "                    sts_with_intersect += 1\n",
    "                    break\n",
    "        #print('sthasinter', st_has_intersect)\n",
    "        score_car = cars[car]['score']\n",
    "        #print(f'{car} : ruas: {qtde_ruas}, tamanhototal: {total_tam_ruas}')\n",
    "        data.append([ car, qtde_ruas, total_tam_ruas, ruas_intersec, sts_with_intersect, score_car ])\n",
    "    df = pd.DataFrame(data, columns=['Carro', 'Ruas', 'Tamanho total', 'Ruas em comum', 'Ruas com intersec', 'Score'])\n",
    "    display(df.describe())\n",
    "    #print(bkp_cars)\n",
    "    #print(schedule)\n",
    "    return df\n",
    "df = data_car(cars, sts, bkp_cars)"
   ]
  },
  {
   "cell_type": "code",
   "execution_count": 4,
   "metadata": {},
   "outputs": [
    {
     "data": {
      "image/png": "[encoded data removed]",
      "text/plain": [
       "<Figure size 720x720 with 2 Axes>"
      ]
     },
     "metadata": {
      "needs_background": "light"
     },
     "output_type": "display_data"
    }
   ],
   "source": [
    "plt.figure(figsize=(10, 10))\n",
    "corr = df.corr()\n",
    "sns.heatmap(corr, annot=True, fmt='.2f', cmap='viridis', vmin=-1, vmax=1);"
   ]
  },
  {
   "cell_type": "code",
   "execution_count": 5,
   "metadata": {
    "tags": []
   },
   "outputs": [
    {
     "data": {
      "text/html": [
       "<div>\n",
       "<style scoped>\n",
       "    .dataframe tbody tr th:only-of-type {\n",
       "        vertical-align: middle;\n",
       "    }\n",
       "\n",
       "    .dataframe tbody tr th {\n",
       "        vertical-align: top;\n",
       "    }\n",
       "\n",
       "    .dataframe thead th {\n",
       "        text-align: right;\n",
       "    }\n",
       "</style>\n",
       "<table border=\"1\" class=\"dataframe\">\n",
       "  <thead>\n",
       "    <tr style=\"text-align: right;\">\n",
       "      <th></th>\n",
       "      <th>Carros que passam por essa rua</th>\n",
       "      <th>Tamanho da Rua</th>\n",
       "      <th>Vem de</th>\n",
       "      <th>Vai para</th>\n",
       "      <th>Quantidade de ruas que desembocam nela</th>\n",
       "      <th>Score dos que passaram</th>\n",
       "    </tr>\n",
       "  </thead>\n",
       "  <tbody>\n",
       "    <tr>\n",
       "      <th>count</th>\n",
       "      <td>998.000000</td>\n",
       "      <td>998.000000</td>\n",
       "      <td>998.000000</td>\n",
       "      <td>998.000000</td>\n",
       "      <td>998.000000</td>\n",
       "      <td>998.000000</td>\n",
       "    </tr>\n",
       "    <tr>\n",
       "      <th>mean</th>\n",
       "      <td>1.781563</td>\n",
       "      <td>50.595190</td>\n",
       "      <td>311.374749</td>\n",
       "      <td>311.625251</td>\n",
       "      <td>63.374749</td>\n",
       "      <td>624.567134</td>\n",
       "    </tr>\n",
       "    <tr>\n",
       "      <th>std</th>\n",
       "      <td>1.643314</td>\n",
       "      <td>28.469034</td>\n",
       "      <td>165.300164</td>\n",
       "      <td>165.206086</td>\n",
       "      <td>107.658911</td>\n",
       "      <td>885.040854</td>\n",
       "    </tr>\n",
       "    <tr>\n",
       "      <th>min</th>\n",
       "      <td>0.000000</td>\n",
       "      <td>1.000000</td>\n",
       "      <td>0.000000</td>\n",
       "      <td>0.000000</td>\n",
       "      <td>1.000000</td>\n",
       "      <td>0.000000</td>\n",
       "    </tr>\n",
       "    <tr>\n",
       "      <th>25%</th>\n",
       "      <td>0.000000</td>\n",
       "      <td>26.000000</td>\n",
       "      <td>166.000000</td>\n",
       "      <td>166.250000</td>\n",
       "      <td>1.000000</td>\n",
       "      <td>0.000000</td>\n",
       "    </tr>\n",
       "    <tr>\n",
       "      <th>50%</th>\n",
       "      <td>1.000000</td>\n",
       "      <td>50.000000</td>\n",
       "      <td>332.000000</td>\n",
       "      <td>332.500000</td>\n",
       "      <td>1.000000</td>\n",
       "      <td>0.000000</td>\n",
       "    </tr>\n",
       "    <tr>\n",
       "      <th>75%</th>\n",
       "      <td>3.000000</td>\n",
       "      <td>75.000000</td>\n",
       "      <td>498.000000</td>\n",
       "      <td>498.750000</td>\n",
       "      <td>2.000000</td>\n",
       "      <td>1045.000000</td>\n",
       "    </tr>\n",
       "    <tr>\n",
       "      <th>max</th>\n",
       "      <td>10.000000</td>\n",
       "      <td>100.000000</td>\n",
       "      <td>499.000000</td>\n",
       "      <td>499.000000</td>\n",
       "      <td>250.000000</td>\n",
       "      <td>4968.000000</td>\n",
       "    </tr>\n",
       "  </tbody>\n",
       "</table>\n",
       "</div>"
      ],
      "text/plain": [
       "       Carros que passam por essa rua  Tamanho da Rua      Vem de    Vai para  \\\n",
       "count                      998.000000      998.000000  998.000000  998.000000   \n",
       "mean                         1.781563       50.595190  311.374749  311.625251   \n",
       "std                          1.643314       28.469034  165.300164  165.206086   \n",
       "min                          0.000000        1.000000    0.000000    0.000000   \n",
       "25%                          0.000000       26.000000  166.000000  166.250000   \n",
       "50%                          1.000000       50.000000  332.000000  332.500000   \n",
       "75%                          3.000000       75.000000  498.000000  498.750000   \n",
       "max                         10.000000      100.000000  499.000000  499.000000   \n",
       "\n",
       "       Quantidade de ruas que desembocam nela  Score dos que passaram  \n",
       "count                              998.000000              998.000000  \n",
       "mean                                63.374749              624.567134  \n",
       "std                                107.658911              885.040854  \n",
       "min                                  1.000000                0.000000  \n",
       "25%                                  1.000000                0.000000  \n",
       "50%                                  1.000000                0.000000  \n",
       "75%                                  2.000000             1045.000000  \n",
       "max                                250.000000             4968.000000  "
      ]
     },
     "metadata": {},
     "output_type": "display_data"
    }
   ],
   "source": [
    "def data_sts(sts, cars, bkp_cars, inters):  \n",
    "    data = []\n",
    "    for st in sts:\n",
    "        #print(sts[st])\n",
    "        cars_with_st = 0\n",
    "        score_st = 0\n",
    "        for car in bkp_cars:\n",
    "            if(st in set(bkp_cars[car])):\n",
    "                cars_with_st += 1\n",
    "                score_st += cars[car]['score']\n",
    "        aux = sts[st]['size']\n",
    "        tam_st = aux[2]\n",
    "        coming = aux[0]\n",
    "        going = aux[1]\n",
    "        qtd_desembocam = len(inters[coming]['sts'])\n",
    "\n",
    "        data.append([cars_with_st, tam_st, coming, going, qtd_desembocam, score_st])\n",
    "    df_st = pd.DataFrame(data, columns=['Carros que passam por essa rua', 'Tamanho da Rua', 'Vem de', 'Vai para', \n",
    "            'Quantidade de ruas que desembocam nela', 'Score dos que passaram'])\n",
    "    display(df_st.describe())\n",
    "    return df_st\n",
    "df_st = data_sts(sts, cars, bkp_cars, inters)"
   ]
  },
  {
   "cell_type": "code",
   "execution_count": 6,
   "metadata": {},
   "outputs": [
    {
     "data": {
      "image/png": "[encoded data removed]",
      "text/plain": [
       "<Figure size 720x720 with 2 Axes>"
      ]
     },
     "metadata": {
      "needs_background": "light"
     },
     "output_type": "display_data"
    }
   ],
   "source": [
    "plt.figure(figsize=(10, 10))\n",
    "corr = df_st.corr()\n",
    "sns.heatmap(corr, annot=True, fmt='.2f', cmap='viridis', vmin=-1, vmax=1);\n",
    "#print(bkp_cars)"
   ]
  },
  {
   "cell_type": "code",
   "execution_count": 7,
   "metadata": {},
   "outputs": [
    {
     "data": {
      "image/png": "[encoded data removed]",
      "text/plain": [
       "<Figure size 432x288 with 1 Axes>"
      ]
     },
     "metadata": {
      "needs_background": "light"
     },
     "output_type": "display_data"
    }
   ],
   "source": [
    "import numpy\n",
    "from sklearn.metrics import r2_score\n",
    "\n",
    "x = [1,2,3,5,6,7,8,9,10,12,13,14,15,16,18,19,21,22]\n",
    "y = [100,90,80,60,60,55,60,65,70,70,75,76,78,79,90,99,99,100]\n",
    "\n",
    "mymodel = numpy.poly1d(numpy.polyfit(x, y, 3))\n",
    "\n",
    "speed = mymodel(17)\n",
    "\n",
    "myline = numpy.linspace(1, 22, 100)\n",
    "\n",
    "plt.scatter(x, y)\n",
    "plt.plot(myline, mymodel(myline))\n",
    "plt.show()\n",
    "\n",
    "#print(speed) "
   ]
  },
  {
   "cell_type": "code",
   "execution_count": 8,
   "metadata": {},
   "outputs": [],
   "source": [
    "def transform_schedule(schedule, score_t): \n",
    "    new_schedule = {}\n",
    "    for _, value in schedule.items():\n",
    "        progs = value['prog'].copy()\n",
    "        for prog in progs:\n",
    "            st_name = prog['st']\n",
    "            t = prog['t']\n",
    "            #prog['score'] = score\n",
    "            new_schedule[st_name] = {'t': t, 'score': score_t}\n",
    "    return new_schedule\n",
    "#transform_schedule(schedule, total)"
   ]
  },
  {
   "cell_type": "code",
   "execution_count": 9,
   "metadata": {
    "tags": []
   },
   "outputs": [],
   "source": [
    "dic = {}\n",
    "for t in range(0,10):\n",
    "    cars, bkp_cars, finished_cars, total, sts, inters, schedule, total = score_geral(\"e\")\n",
    "    schedule = transform_schedule(schedule, total)\n",
    "    sts_list = set(dic.keys())\n",
    "    for st_name, value in schedule.items():\n",
    "        if st_name in sts_list :\n",
    "            dic[st_name].append(value)\n",
    "        else:\n",
    "            dic[st_name] = []\n",
    "#print(dic)"
   ]
  },
  {
   "cell_type": "code",
   "execution_count": 10,
   "metadata": {},
   "outputs": [
    {
     "name": "stdout",
     "output_type": "stream",
     "text": [
      "[[ 1.  0.  1.  0.  0.  1.  0.  0.  0.  1.]\n",
      " [ 1.  2.  3.  4.  6.  9.  8. 12. 18. 27.]] \n",
      "\n",
      "[[ 1.  0.  1.  0.  0.  1.  0.  0.  0.  1.]\n",
      " [ 1.  2.  3.  4.  6.  9.  8. 12. 18. 27.]]\n"
     ]
    }
   ],
   "source": [
    "import numpy as np\n",
    "from sklearn.preprocessing import PolynomialFeatures\n",
    "linhas = 2\n",
    "variaveis = 2\n",
    "X = np.arange(linhas * variaveis).reshape(linhas, variaveis)\n",
    "\n",
    "y = [[1, 3], [2,1]]\n",
    "deg = 3\n",
    "\n",
    "poly = PolynomialFeatures(deg)\n",
    "print(poly.fit_transform(X, y), '\\n')\n",
    "\n",
    "\n",
    "\n",
    "poly = PolynomialFeatures(deg, interaction_only=False)\n",
    "print(poly.fit_transform(X))\n"
   ]
  },
  {
   "cell_type": "code",
   "execution_count": 11,
   "metadata": {},
   "outputs": [
    {
     "name": "stdout",
     "output_type": "stream",
     "text": [
      "[[0 0]\n",
      " [1 0]\n",
      " [0 1]\n",
      " [2 0]\n",
      " [1 1]\n",
      " [0 2]\n",
      " [3 0]\n",
      " [2 1]\n",
      " [1 2]\n",
      " [0 3]]\n"
     ]
    }
   ],
   "source": [
    "print(poly.powers_)"
   ]
  },
  {
   "cell_type": "code",
   "execution_count": 12,
   "metadata": {},
   "outputs": [
    {
     "data": {
      "image/png": "[encoded data removed]",
      "text/plain": [
       "<Figure size 432x288 with 1 Axes>"
      ]
     },
     "metadata": {
      "needs_background": "light"
     },
     "output_type": "display_data"
    }
   ],
   "source": [
    "import pandas as pd\n",
    "#xdic={'X': {11: 300, 12: 170, 13: 99, 14: }} \n",
    "#ydic={'y': {11: 305000, 12: 270000}}\n",
    "\n",
    "def pol(x):\n",
    "    x = x + random.random()\n",
    "    return (x*x*x + 3*x + 34 )\n",
    "\n",
    "xdic = [-3, -1, 0, 4, 3, 2]#, [-3, -1, 0, 4, 3, 2]]\n",
    "ydic = [pol(el)for el in xdic] #,  [pol(el)for el in xdic[1]]]\n",
    "X = pd.DataFrame.from_dict(xdic)\n",
    "y = pd.DataFrame.from_dict(ydic)\n",
    "\n",
    "import numpy as np4\n",
    "X_seq = np.linspace(X.min(), X.max(), 300).reshape(-1,1)\n",
    "\n",
    "from sklearn.preprocessing import PolynomialFeatures\n",
    "from sklearn.pipeline import make_pipeline\n",
    "from sklearn.linear_model import LinearRegression\n",
    "#from sklearn.svm import SVC\n",
    "\n",
    "degree = 3\n",
    "polyreg = make_pipeline(PolynomialFeatures(degree), LinearRegression())\n",
    "polyreg.fit(X,y)\n",
    "\n",
    "import matplotlib.pyplot as plt\n",
    "plt.figure()\n",
    "plt.scatter(X,y)\n",
    "plt.plot(X_seq,polyreg.predict(X_seq),color=\"black\")\n",
    "plt.title(\"Polynomial regression with degree \"+str(degree))\n",
    "plt.show()"
   ]
  },
  {
   "cell_type": "code",
   "execution_count": 13,
   "metadata": {},
   "outputs": [
    {
     "name": "stdout",
     "output_type": "stream",
     "text": [
      "(1000, 10) (1000, 3)\n"
     ]
    }
   ],
   "source": [
    "# example of a multi-output regression problem\n",
    "from sklearn.datasets import make_regression\n",
    "# create dataset\n",
    "X, y = make_regression(n_samples=1000, n_features=10, n_informative=5, n_targets=3, random_state=2)\n",
    "# summarize shape\n",
    "print(X.shape, y.shape)"
   ]
  },
  {
   "cell_type": "code",
   "execution_count": 14,
   "metadata": {},
   "outputs": [
    {
     "data": {
      "text/html": [
       "<div>\n",
       "<style scoped>\n",
       "    .dataframe tbody tr th:only-of-type {\n",
       "        vertical-align: middle;\n",
       "    }\n",
       "\n",
       "    .dataframe tbody tr th {\n",
       "        vertical-align: top;\n",
       "    }\n",
       "\n",
       "    .dataframe thead th {\n",
       "        text-align: right;\n",
       "    }\n",
       "</style>\n",
       "<table border=\"1\" class=\"dataframe\">\n",
       "  <thead>\n",
       "    <tr style=\"text-align: right;\">\n",
       "      <th></th>\n",
       "      <th>0</th>\n",
       "      <th>1</th>\n",
       "      <th>2</th>\n",
       "      <th>3</th>\n",
       "      <th>4</th>\n",
       "      <th>5</th>\n",
       "      <th>6</th>\n",
       "      <th>7</th>\n",
       "      <th>8</th>\n",
       "      <th>9</th>\n",
       "    </tr>\n",
       "  </thead>\n",
       "  <tbody>\n",
       "    <tr>\n",
       "      <th>0</th>\n",
       "      <td>-0.998594</td>\n",
       "      <td>2.192843</td>\n",
       "      <td>-0.426326</td>\n",
       "      <td>-0.210433</td>\n",
       "      <td>-1.136556</td>\n",
       "      <td>-0.556716</td>\n",
       "      <td>-0.631690</td>\n",
       "      <td>-0.876251</td>\n",
       "      <td>-0.994456</td>\n",
       "      <td>-0.367749</td>\n",
       "    </tr>\n",
       "    <tr>\n",
       "      <th>1</th>\n",
       "      <td>-0.886219</td>\n",
       "      <td>0.582614</td>\n",
       "      <td>0.139033</td>\n",
       "      <td>-1.075892</td>\n",
       "      <td>-0.682624</td>\n",
       "      <td>1.062319</td>\n",
       "      <td>-0.739932</td>\n",
       "      <td>0.772704</td>\n",
       "      <td>0.641540</td>\n",
       "      <td>-1.130404</td>\n",
       "    </tr>\n",
       "    <tr>\n",
       "      <th>2</th>\n",
       "      <td>-0.664368</td>\n",
       "      <td>0.274479</td>\n",
       "      <td>-1.600997</td>\n",
       "      <td>0.364480</td>\n",
       "      <td>0.293683</td>\n",
       "      <td>0.817516</td>\n",
       "      <td>0.005450</td>\n",
       "      <td>-1.190788</td>\n",
       "      <td>-0.036723</td>\n",
       "      <td>-0.549656</td>\n",
       "    </tr>\n",
       "    <tr>\n",
       "      <th>3</th>\n",
       "      <td>1.312484</td>\n",
       "      <td>-0.852580</td>\n",
       "      <td>0.319529</td>\n",
       "      <td>-0.049257</td>\n",
       "      <td>1.998461</td>\n",
       "      <td>1.093359</td>\n",
       "      <td>1.813193</td>\n",
       "      <td>-0.817975</td>\n",
       "      <td>-1.089942</td>\n",
       "      <td>0.914610</td>\n",
       "    </tr>\n",
       "    <tr>\n",
       "      <th>4</th>\n",
       "      <td>-0.914343</td>\n",
       "      <td>0.201153</td>\n",
       "      <td>1.189729</td>\n",
       "      <td>0.115378</td>\n",
       "      <td>0.168460</td>\n",
       "      <td>-1.625434</td>\n",
       "      <td>0.527366</td>\n",
       "      <td>0.387920</td>\n",
       "      <td>-0.643904</td>\n",
       "      <td>0.355701</td>\n",
       "    </tr>\n",
       "  </tbody>\n",
       "</table>\n",
       "</div>"
      ],
      "text/plain": [
       "          0         1         2         3         4         5         6  \\\n",
       "0 -0.998594  2.192843 -0.426326 -0.210433 -1.136556 -0.556716 -0.631690   \n",
       "1 -0.886219  0.582614  0.139033 -1.075892 -0.682624  1.062319 -0.739932   \n",
       "2 -0.664368  0.274479 -1.600997  0.364480  0.293683  0.817516  0.005450   \n",
       "3  1.312484 -0.852580  0.319529 -0.049257  1.998461  1.093359  1.813193   \n",
       "4 -0.914343  0.201153  1.189729  0.115378  0.168460 -1.625434  0.527366   \n",
       "\n",
       "          7         8         9  \n",
       "0 -0.876251 -0.994456 -0.367749  \n",
       "1  0.772704  0.641540 -1.130404  \n",
       "2 -1.190788 -0.036723 -0.549656  \n",
       "3 -0.817975 -1.089942  0.914610  \n",
       "4  0.387920 -0.643904  0.355701  "
      ]
     },
     "execution_count": 14,
     "metadata": {},
     "output_type": "execute_result"
    }
   ],
   "source": [
    "pd.DataFrame(X).head()"
   ]
  },
  {
   "cell_type": "code",
   "execution_count": 29,
   "metadata": {},
   "outputs": [],
   "source": [
    "# mlp for multi-output regression\n",
    "from numpy import mean\n",
    "from numpy import std\n",
    "from sklearn.datasets import make_regression\n",
    "from sklearn.model_selection import RepeatedKFold\n",
    "from tensorflow.keras.models import Sequential\n",
    "from tensorflow.keras.layers import Dense"
   ]
  },
  {
   "cell_type": "code",
   "execution_count": 30,
   "metadata": {},
   "outputs": [],
   "source": [
    "model = Sequential()\n",
    "model.add(Dense(20, input_dim=10, kernel_initializer='he_uniform', activation='relu'))\n",
    "model.add(Dense(3))\n",
    "model.compile(loss='mae', optimizer='adam')"
   ]
  },
  {
   "cell_type": "code",
   "execution_count": 31,
   "metadata": {},
   "outputs": [],
   "source": [
    "# get the dataset\n",
    "def get_dataset():\n",
    "\tX, y = make_regression(n_samples=1000, n_features=10, n_informative=5, n_targets=3, random_state=2)\n",
    "\treturn X, y"
   ]
  },
  {
   "cell_type": "code",
   "execution_count": 32,
   "metadata": {},
   "outputs": [],
   "source": [
    "# get the model\n",
    "def get_model(n_inputs, n_outputs):\n",
    "\tmodel = Sequential()\n",
    "\tmodel.add(Dense(20, input_dim=n_inputs, kernel_initializer='he_uniform', activation='relu'))\n",
    "\tmodel.add(Dense(n_outputs))\n",
    "\tmodel.compile(loss='mae', optimizer='adam')\n",
    "\treturn model"
   ]
  },
  {
   "cell_type": "code",
   "execution_count": 33,
   "metadata": {},
   "outputs": [],
   "source": [
    "# evaluate a model using repeated k-fold cross-validation\n",
    "def evaluate_model(X, y):\n",
    "\tresults = list()\n",
    "\tn_inputs, n_outputs = X.shape[1], y.shape[1]\n",
    "\t# define evaluation procedure\n",
    "\tcv = RepeatedKFold(n_splits=10, n_repeats=3, random_state=1)\n",
    "\t# enumerate folds\n",
    "\tfor train_ix, test_ix in cv.split(X):\n",
    "\t\t# prepare data\n",
    "\t\tX_train, X_test = X[train_ix], X[test_ix]\n",
    "\t\ty_train, y_test = y[train_ix], y[test_ix]\n",
    "\t\t# define model\n",
    "\t\tmodel = get_model(n_inputs, n_outputs)\n",
    "\t\t# fit model\n",
    "\t\tmodel.fit(X_train, y_train, verbose=0, epochs=100)\n",
    "\t\t# evaluate model on test set\n",
    "\t\tmae = model.evaluate(X_test, y_test, verbose=0)\n",
    "\t\t# store result\n",
    "\t\tprint('>%.3f' % mae)\n",
    "\t\tresults.append(mae)\n",
    "\treturn results"
   ]
  },
  {
   "cell_type": "code",
   "execution_count": null,
   "metadata": {},
   "outputs": [
    {
     "name": "stdout",
     "output_type": "stream",
     "text": [
      ">9.883\n",
      ">7.684\n",
      ">7.551\n",
      ">7.416\n",
      ">8.225\n",
      ">8.253\n",
      ">7.361\n",
      ">9.517\n",
      ">7.969\n",
      ">8.054\n",
      ">10.188\n",
      ">7.466\n",
      ">7.693\n",
      ">6.695\n",
      ">8.447\n",
      ">9.689\n",
      ">6.976\n",
      ">7.830\n",
      ">7.777\n"
     ]
    }
   ],
   "source": [
    "# load dataset\n",
    "X, y = get_dataset()\n",
    "# evaluate model\n",
    "results = evaluate_model(X, y)\n",
    "# summarize performance\n",
    "print('MAE: %.3f (%.3f)' % (mean(results), std(results)))"
   ]
  },
  {
   "cell_type": "code",
   "execution_count": null,
   "metadata": {},
   "outputs": [],
   "source": []
  },
  {
   "cell_type": "code",
   "execution_count": null,
   "metadata": {},
   "outputs": [],
   "source": []
  }
 ],
 "metadata": {
  "kernelspec": {
   "display_name": "Python 3",
   "language": "python",
   "name": "python3"
  },
  "language_info": {
   "codemirror_mode": {
    "name": "ipython",
    "version": 3
   },
   "file_extension": ".py",
   "mimetype": "text/x-python",
   "name": "python",
   "nbconvert_exporter": "python",
   "pygments_lexer": "ipython3",
   "version": "3.6.9"
  },
  "metadata": {
   "interpreter": {
    "hash": "31f2aee4e71d21fbe5cf8b01ff0e069b9275f58929596ceb00d14d90e3e16cd6"
   }
  }
 },
 "nbformat": 4,
 "nbformat_minor": 4
}
